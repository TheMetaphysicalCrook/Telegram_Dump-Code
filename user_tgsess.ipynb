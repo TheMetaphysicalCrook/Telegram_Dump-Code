{
  "nbformat": 4,
  "nbformat_minor": 0,
  "metadata": {
    "colab": {
      "provenance": [],
      "include_colab_link": true
    },
    "kernelspec": {
      "name": "python3",
      "display_name": "Python 3"
    },
    "language_info": {
      "name": "python"
    }
  },
  "cells": [
    {
      "cell_type": "markdown",
      "metadata": {
        "id": "view-in-github",
        "colab_type": "text"
      },
      "source": [
        "<a href=\"https://colab.research.google.com/github/TheMetaphysicalCrook/Telegram_Dump-Code/blob/main/user_tgsess.ipynb\" target=\"_parent\"><img src=\"https://colab.research.google.com/assets/colab-badge.svg\" alt=\"Open In Colab\"/></a>"
      ]
    },
    {
      "cell_type": "code",
      "execution_count": null,
      "metadata": {
        "id": "zCWu9ZBjWQZA",
        "cellView": "form"
      },
      "outputs": [],
      "source": [
        "#@title <center>𝙏𝙚𝙡𝙚𝙜𝙧𝙖𝙢 𝙐𝙨𝙚𝙧𝙎𝙚𝙨𝙨𝙞𝙤𝙣</center>\n",
        "\n",
        "#@markdown ---\n",
        "\n",
        "API_KEY = 0 #@param {type:\"integer\"}\n",
        "API_HASH = \"\" #@param {type:\"string\"}\n",
        "\n",
        "Pyrogram_Version = \"2.0.106\" #@param [\"2.0.66\", \"2.0.77\", \"2.0.106\", \"latest\"] {allow-input: true, type:\"string\"}\n",
        "Pyrofork_Version = \"latest\" #@param [\"2.2.10\", \"2.3.12\", \"latest\"] {allow-input: true, type:\"string\"}\n",
        "Telethon_Version = \"latest\" #@param [\"latest\"] {allow-input: true, type:\"string\"}\n",
        "\n",
        "Mode = \"pyrofork\" #@param [\"pyrogram\", \"pyrofork\", \"telethon\"] {allow-input: false, type:\"string\"}\n",
        "\n",
        "#@markdown ---\n",
        "\n",
        "if Mode == \"pyrogram\":\n",
        "    pg = f\"pyrogram=={Pyrogram_Version}\"\n",
        "    if Pyrogram_Version == \"latest\":\n",
        "        pf = \"pyrogram\"\n",
        "    !pip3 install tgcrypto $pg\n",
        "    header = f\"#PYROGRAM_SESSION_{Pyrogram_Version}\"\n",
        "elif Mode == \"pyrofork\":\n",
        "    pf = f\"pyrofork=={Pyrofork_Version}\"\n",
        "    if Pyrofork_Version == \"latest\":\n",
        "        pf = \"pyrofork\"\n",
        "    !pip3 install tgcrypto $pf\n",
        "    header = f\"#PYROFORK_SESSION_{Pyrofork_Version}\"\n",
        "elif Mode == \"telethon\":\n",
        "    tt = f\"telethon=={Telethon_Version}\"\n",
        "    if Telethon_Version == \"latest\":\n",
        "        tt = \"telethon\"\n",
        "    !pip3 install cryptg $tt\n",
        "    header = f\"#TELETHON_SESSION_{Telethon_Version}\"\n",
        "\n",
        "from IPython.display import clear_output\n",
        "clear_output()\n",
        "print(f\"Successfully Installed {header}\")\n",
        "\n",
        "if Mode == \"telethon\":\n",
        "    from telethon.sync import TelegramClient\n",
        "    from telethon.sessions import StringSession\n",
        "\n",
        "    async with TelegramClient(StringSession(), API_KEY, API_HASH) as user:\n",
        "        sess = user.session.save()\n",
        "\n",
        "    async with TelegramClient(StringSession(sess), API_KEY, API_HASH) as tgUser:\n",
        "        print(\"\\nGenerating ...\")\n",
        "        donestr = \"sent to Saved Messages !!\"\n",
        "        try:\n",
        "            await tgUser.send_message('me',\n",
        "                f\"#WZMLX {header}\\n\\n`{sess}`\",\n",
        "            )\n",
        "        except:\n",
        "            donestr = \"Successfully Printed !!\"\n",
        "            print(\"#WZMLX {header}\")\n",
        "            print(sess)\n",
        "        print(f\"Done !!, String Session has been {donestr}\")\n",
        "else:\n",
        "    from pyrogram import Client\n",
        "    from pyrogram.errors import UserIsBot\n",
        "\n",
        "    async with Client(name=\"WZ-User\", api_id=API_KEY, api_hash=API_HASH, in_memory=True) as app:\n",
        "        sess = await app.export_session_string()\n",
        "        print(\"\\nGenerating ...\")\n",
        "        donestr = \"sent to Saved Messages !!\"\n",
        "        try:\n",
        "            await app.send_message(\"me\",\n",
        "                 f\"#WZMLX {header}\\n\\n<code>{sess}</code>\",\n",
        "            )\n",
        "        except UserIsBot:\n",
        "            donestr = \"Successfully Printed !!\"\n",
        "            print(\"#WZMLX {header}\")\n",
        "            print(sess)\n",
        "        print(f\"Done !!, String Session has been {donestr}\")"
      ]
    }
  ]
}